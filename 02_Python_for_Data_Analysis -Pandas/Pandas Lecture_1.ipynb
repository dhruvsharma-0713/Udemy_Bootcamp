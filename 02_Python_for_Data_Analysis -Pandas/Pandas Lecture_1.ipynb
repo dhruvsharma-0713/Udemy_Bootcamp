{
 "cells": [
  {
   "cell_type": "code",
   "execution_count": 12,
   "id": "e22c16df",
   "metadata": {
    "ExecuteTime": {
     "end_time": "2025-07-26T10:53:54.102231Z",
     "start_time": "2025-07-26T10:53:54.096128Z"
    }
   },
   "outputs": [],
   "source": [
    "import numpy as np"
   ]
  },
  {
   "cell_type": "code",
   "execution_count": 13,
   "id": "d7ed3bfa",
   "metadata": {
    "ExecuteTime": {
     "end_time": "2025-07-26T10:53:54.621958Z",
     "start_time": "2025-07-26T10:53:54.615979Z"
    }
   },
   "outputs": [],
   "source": [
    "import pandas as pd"
   ]
  },
  {
   "cell_type": "code",
   "execution_count": 14,
   "id": "067d67a6",
   "metadata": {
    "ExecuteTime": {
     "end_time": "2025-07-26T10:53:55.245013Z",
     "start_time": "2025-07-26T10:53:55.237812Z"
    }
   },
   "outputs": [],
   "source": [
    "list = ['a','b','c','d','e']\n",
    "my_data = [10,20,30,40,50]\n",
    "arr = np.array(my_data)\n",
    "d = {'a':10,'b':20,'c':30,'d':40,'e':50}"
   ]
  },
  {
   "cell_type": "code",
   "execution_count": 16,
   "id": "d88c1dae",
   "metadata": {
    "ExecuteTime": {
     "end_time": "2025-07-26T10:59:21.965318Z",
     "start_time": "2025-07-26T10:59:21.954586Z"
    }
   },
   "outputs": [
    {
     "data": {
      "text/plain": [
       "0    10\n",
       "1    20\n",
       "2    30\n",
       "3    40\n",
       "4    50\n",
       "dtype: int64"
      ]
     },
     "execution_count": 16,
     "metadata": {},
     "output_type": "execute_result"
    }
   ],
   "source": [
    "pd.Series(data=my_data)"
   ]
  },
  {
   "cell_type": "code",
   "execution_count": 17,
   "id": "5e09b3b4",
   "metadata": {
    "ExecuteTime": {
     "end_time": "2025-07-26T11:05:10.855516Z",
     "start_time": "2025-07-26T11:05:10.834933Z"
    }
   },
   "outputs": [
    {
     "data": {
      "text/plain": [
       "a    10\n",
       "b    20\n",
       "c    30\n",
       "d    40\n",
       "e    50\n",
       "dtype: int64"
      ]
     },
     "execution_count": 17,
     "metadata": {},
     "output_type": "execute_result"
    }
   ],
   "source": [
    "pd.Series(data=my_data,index=list)"
   ]
  },
  {
   "cell_type": "code",
   "execution_count": 20,
   "id": "51cc87f6",
   "metadata": {
    "ExecuteTime": {
     "end_time": "2025-07-26T11:06:07.602731Z",
     "start_time": "2025-07-26T11:06:07.591981Z"
    }
   },
   "outputs": [
    {
     "data": {
      "text/plain": [
       "a    10\n",
       "b    20\n",
       "c    30\n",
       "d    40\n",
       "e    50\n",
       "dtype: int64"
      ]
     },
     "execution_count": 20,
     "metadata": {},
     "output_type": "execute_result"
    }
   ],
   "source": [
    "pd.Series(arr,list)"
   ]
  },
  {
   "cell_type": "code",
   "execution_count": 21,
   "id": "70a2a76c",
   "metadata": {
    "ExecuteTime": {
     "end_time": "2025-07-26T11:06:41.257923Z",
     "start_time": "2025-07-26T11:06:41.247967Z"
    }
   },
   "outputs": [
    {
     "data": {
      "text/plain": [
       "a    10\n",
       "b    20\n",
       "c    30\n",
       "d    40\n",
       "e    50\n",
       "dtype: int64"
      ]
     },
     "execution_count": 21,
     "metadata": {},
     "output_type": "execute_result"
    }
   ],
   "source": [
    "pd.Series(d)"
   ]
  },
  {
   "cell_type": "code",
   "execution_count": 22,
   "id": "361691db",
   "metadata": {
    "ExecuteTime": {
     "end_time": "2025-07-26T11:11:00.164151Z",
     "start_time": "2025-07-26T11:11:00.153223Z"
    }
   },
   "outputs": [
    {
     "data": {
      "text/plain": [
       "0      <built-in function sum>\n",
       "1    <built-in function print>\n",
       "2      <built-in function len>\n",
       "dtype: object"
      ]
     },
     "execution_count": 22,
     "metadata": {},
     "output_type": "execute_result"
    }
   ],
   "source": [
    "pd.Series(data=[sum,print,len])"
   ]
  },
  {
   "cell_type": "code",
   "execution_count": 26,
   "id": "44990643",
   "metadata": {
    "ExecuteTime": {
     "end_time": "2025-07-26T11:15:10.451015Z",
     "start_time": "2025-07-26T11:15:10.443575Z"
    }
   },
   "outputs": [],
   "source": [
    "ser1 = pd.Series([1,2,3,4,5],['USA','Germany','USSR','Japan','India'])"
   ]
  },
  {
   "cell_type": "code",
   "execution_count": 27,
   "id": "214173ad",
   "metadata": {
    "ExecuteTime": {
     "end_time": "2025-07-26T11:15:12.488120Z",
     "start_time": "2025-07-26T11:15:12.477019Z"
    }
   },
   "outputs": [
    {
     "data": {
      "text/plain": [
       "USA        1\n",
       "Germany    2\n",
       "USSR       3\n",
       "Japan      4\n",
       "India      5\n",
       "dtype: int64"
      ]
     },
     "execution_count": 27,
     "metadata": {},
     "output_type": "execute_result"
    }
   ],
   "source": [
    "ser1"
   ]
  },
  {
   "cell_type": "code",
   "execution_count": 30,
   "id": "2043b8b2",
   "metadata": {
    "ExecuteTime": {
     "end_time": "2025-07-26T11:17:13.141967Z",
     "start_time": "2025-07-26T11:17:13.134889Z"
    }
   },
   "outputs": [],
   "source": [
    "ser2 = pd.Series([1,2,3,6,5],['USA','Germany','USSR','China','India'])"
   ]
  },
  {
   "cell_type": "code",
   "execution_count": 31,
   "id": "a1cd3599",
   "metadata": {
    "ExecuteTime": {
     "end_time": "2025-07-26T11:17:14.311878Z",
     "start_time": "2025-07-26T11:17:14.301996Z"
    }
   },
   "outputs": [
    {
     "data": {
      "text/plain": [
       "USA        1\n",
       "Germany    2\n",
       "USSR       3\n",
       "China      6\n",
       "India      5\n",
       "dtype: int64"
      ]
     },
     "execution_count": 31,
     "metadata": {},
     "output_type": "execute_result"
    }
   ],
   "source": [
    "ser2"
   ]
  },
  {
   "cell_type": "code",
   "execution_count": 40,
   "id": "6eaea016",
   "metadata": {
    "ExecuteTime": {
     "end_time": "2025-07-26T11:20:25.756585Z",
     "start_time": "2025-07-26T11:20:25.751596Z"
    }
   },
   "outputs": [],
   "source": [
    "ser4 = pd.Series(['USA','Germany','USSR','China','India'],[1,2,3,6,5],)"
   ]
  },
  {
   "cell_type": "code",
   "execution_count": 41,
   "id": "47a643b5",
   "metadata": {
    "ExecuteTime": {
     "end_time": "2025-07-26T11:20:26.244159Z",
     "start_time": "2025-07-26T11:20:26.233562Z"
    }
   },
   "outputs": [
    {
     "data": {
      "text/plain": [
       "1        USA\n",
       "2    Germany\n",
       "3       USSR\n",
       "6      China\n",
       "5      India\n",
       "dtype: object"
      ]
     },
     "execution_count": 41,
     "metadata": {},
     "output_type": "execute_result"
    }
   ],
   "source": [
    "ser4"
   ]
  },
  {
   "cell_type": "code",
   "execution_count": 45,
   "id": "b6540593",
   "metadata": {
    "ExecuteTime": {
     "end_time": "2025-07-26T11:20:37.960232Z",
     "start_time": "2025-07-26T11:20:37.953528Z"
    }
   },
   "outputs": [],
   "source": [
    "ser3 = pd.Series(data=list)"
   ]
  },
  {
   "cell_type": "code",
   "execution_count": 46,
   "id": "5cadf1cd",
   "metadata": {
    "ExecuteTime": {
     "end_time": "2025-07-26T11:20:39.484823Z",
     "start_time": "2025-07-26T11:20:39.475369Z"
    }
   },
   "outputs": [
    {
     "data": {
      "text/plain": [
       "0    a\n",
       "1    b\n",
       "2    c\n",
       "3    d\n",
       "4    e\n",
       "dtype: object"
      ]
     },
     "execution_count": 46,
     "metadata": {},
     "output_type": "execute_result"
    }
   ],
   "source": [
    "ser3"
   ]
  },
  {
   "cell_type": "code",
   "execution_count": 49,
   "id": "488d1aee",
   "metadata": {
    "ExecuteTime": {
     "end_time": "2025-07-26T11:29:54.755779Z",
     "start_time": "2025-07-26T11:29:54.740850Z"
    }
   },
   "outputs": [
    {
     "data": {
      "text/plain": [
       "China       NaN\n",
       "Germany     4.0\n",
       "India      10.0\n",
       "Japan       NaN\n",
       "USA         2.0\n",
       "USSR        6.0\n",
       "dtype: float64"
      ]
     },
     "execution_count": 49,
     "metadata": {},
     "output_type": "execute_result"
    }
   ],
   "source": [
    "ser1 + ser2"
   ]
  },
  {
   "cell_type": "code",
   "execution_count": null,
   "id": "c16c2a7d",
   "metadata": {},
   "outputs": [],
   "source": []
  }
 ],
 "metadata": {
  "kernelspec": {
   "display_name": "Python 3 (ipykernel)",
   "language": "python",
   "name": "python3"
  },
  "language_info": {
   "codemirror_mode": {
    "name": "ipython",
    "version": 3
   },
   "file_extension": ".py",
   "mimetype": "text/x-python",
   "name": "python",
   "nbconvert_exporter": "python",
   "pygments_lexer": "ipython3",
   "version": "3.13.5"
  },
  "toc": {
   "base_numbering": 1,
   "nav_menu": {},
   "number_sections": true,
   "sideBar": true,
   "skip_h1_title": false,
   "title_cell": "Table of Contents",
   "title_sidebar": "Contents",
   "toc_cell": false,
   "toc_position": {},
   "toc_section_display": true,
   "toc_window_display": false
  },
  "varInspector": {
   "cols": {
    "lenName": 16,
    "lenType": 16,
    "lenVar": 40
   },
   "kernels_config": {
    "python": {
     "delete_cmd_postfix": "",
     "delete_cmd_prefix": "del ",
     "library": "var_list.py",
     "varRefreshCmd": "print(var_dic_list())"
    },
    "r": {
     "delete_cmd_postfix": ") ",
     "delete_cmd_prefix": "rm(",
     "library": "var_list.r",
     "varRefreshCmd": "cat(var_dic_list()) "
    }
   },
   "types_to_exclude": [
    "module",
    "function",
    "builtin_function_or_method",
    "instance",
    "_Feature"
   ],
   "window_display": false
  }
 },
 "nbformat": 4,
 "nbformat_minor": 5
}
