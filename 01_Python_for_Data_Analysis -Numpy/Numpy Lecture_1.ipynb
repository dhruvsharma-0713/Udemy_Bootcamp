{
 "cells": [
  {
   "cell_type": "code",
   "execution_count": 13,
   "id": "8aa16e31-7b91-461a-bc82-87aa3c8ee638",
   "metadata": {},
   "outputs": [],
   "source": [
    "import numpy as np"
   ]
  },
  {
   "cell_type": "code",
   "execution_count": 17,
   "id": "8dd99045-8c22-4397-bf14-3a85fd5815c7",
   "metadata": {
    "ExecuteTime": {
     "end_time": "2025-07-25T07:11:53.984076Z",
     "start_time": "2025-07-25T07:11:53.973354Z"
    }
   },
   "outputs": [
    {
     "data": {
      "text/plain": [
       "array([[1., 0., 0., 0.],\n",
       "       [0., 1., 0., 0.],\n",
       "       [0., 0., 1., 0.],\n",
       "       [0., 0., 0., 1.]])"
      ]
     },
     "execution_count": 17,
     "metadata": {},
     "output_type": "execute_result"
    }
   ],
   "source": [
    "np.eye(4)"
   ]
  },
  {
   "cell_type": "code",
   "execution_count": 18,
   "id": "9e4f74c8",
   "metadata": {
    "ExecuteTime": {
     "end_time": "2025-07-25T07:13:06.391257Z",
     "start_time": "2025-07-25T07:13:06.380879Z"
    }
   },
   "outputs": [
    {
     "data": {
      "text/plain": [
       "array([0.6325555 , 0.93538852, 0.48130697, 0.11948848, 0.75733036,\n",
       "       0.99709569, 0.07824368])"
      ]
     },
     "execution_count": 18,
     "metadata": {},
     "output_type": "execute_result"
    }
   ],
   "source": [
    "np.random.rand(7)"
   ]
  },
  {
   "cell_type": "code",
   "execution_count": 19,
   "id": "146ad205",
   "metadata": {
    "ExecuteTime": {
     "end_time": "2025-07-25T07:13:26.785999Z",
     "start_time": "2025-07-25T07:13:26.775137Z"
    }
   },
   "outputs": [
    {
     "data": {
      "text/plain": [
       "array([[0.06696118, 0.37915241, 0.63369431, 0.88580282, 0.81070564],\n",
       "       [0.42452855, 0.37008226, 0.37326722, 0.51091028, 0.71875542],\n",
       "       [0.82223701, 0.8765432 , 0.55389455, 0.14285312, 0.97850237],\n",
       "       [0.6226082 , 0.40218147, 0.79977919, 0.54716557, 0.50430938],\n",
       "       [0.14110639, 0.91106037, 0.76861635, 0.33555126, 0.2662798 ]])"
      ]
     },
     "execution_count": 19,
     "metadata": {},
     "output_type": "execute_result"
    }
   ],
   "source": [
    "np.random.rand(5,5)"
   ]
  },
  {
   "cell_type": "code",
   "execution_count": 20,
   "id": "a744580a",
   "metadata": {
    "ExecuteTime": {
     "end_time": "2025-07-25T07:14:02.024377Z",
     "start_time": "2025-07-25T07:14:02.012090Z"
    }
   },
   "outputs": [
    {
     "data": {
      "text/plain": [
       "array([ 0.50971884,  1.2733149 , -2.06236735, -1.67147197, -2.62908475])"
      ]
     },
     "execution_count": 20,
     "metadata": {},
     "output_type": "execute_result"
    }
   ],
   "source": [
    "np.random.randn(5)"
   ]
  },
  {
   "cell_type": "code",
   "execution_count": 21,
   "id": "467a6edf",
   "metadata": {
    "ExecuteTime": {
     "end_time": "2025-07-25T07:14:28.921558Z",
     "start_time": "2025-07-25T07:14:28.909042Z"
    }
   },
   "outputs": [
    {
     "data": {
      "text/plain": [
       "array([[ 0.27825188,  0.63624406, -1.82792079, -1.95430487, -0.97392444],\n",
       "       [-0.69279133,  1.24957649, -1.09018104,  0.07694183, -0.9624617 ],\n",
       "       [-1.20216128, -0.36775201, -1.3345501 ,  0.39811412, -0.09326086],\n",
       "       [-0.50564802, -0.99083602,  0.44442575,  0.99819457,  0.02837086],\n",
       "       [-0.60283548,  0.24676142,  0.27324532, -0.71567341, -0.75373414]])"
      ]
     },
     "execution_count": 21,
     "metadata": {},
     "output_type": "execute_result"
    }
   ],
   "source": [
    "np.random.randn(5,5)"
   ]
  },
  {
   "cell_type": "code",
   "execution_count": 22,
   "id": "1b15b10f",
   "metadata": {
    "ExecuteTime": {
     "end_time": "2025-07-25T07:15:18.791041Z",
     "start_time": "2025-07-25T07:15:18.778412Z"
    }
   },
   "outputs": [
    {
     "data": {
      "text/plain": [
       "array([465, 398,  81,  30, 435, 166, 469,  69, 152, 393, 116, 140,  75,\n",
       "       130,  50, 232, 337, 304, 310, 217, 319, 458, 154, 334, 432, 432,\n",
       "       441, 484, 295, 460, 479, 382, 427, 208, 292, 243, 443, 371,  35,\n",
       "       375,  23, 233, 497, 440, 104, 180, 234,  57, 449, 315, 171, 425,\n",
       "       393, 297,  78,  61, 261, 305, 488,  21, 451,  48, 344,  54, 407,\n",
       "       397, 428, 472,   8, 397, 275,  70, 376, 168, 310, 174, 318, 256,\n",
       "       469, 201], dtype=int32)"
      ]
     },
     "execution_count": 22,
     "metadata": {},
     "output_type": "execute_result"
    }
   ],
   "source": [
    "np.random.randint(5,500,80)"
   ]
  },
  {
   "cell_type": "raw",
   "id": "9fee2ece",
   "metadata": {},
   "source": []
  },
  {
   "cell_type": "code",
   "execution_count": 31,
   "id": "69a1cefb",
   "metadata": {
    "ExecuteTime": {
     "end_time": "2025-07-25T07:20:15.923389Z",
     "start_time": "2025-07-25T07:20:15.918110Z"
    }
   },
   "outputs": [],
   "source": [
    "ranarr = np.random.randint(0,50,10)"
   ]
  },
  {
   "cell_type": "code",
   "execution_count": 32,
   "id": "2920a1dc",
   "metadata": {
    "ExecuteTime": {
     "end_time": "2025-07-25T07:20:16.442786Z",
     "start_time": "2025-07-25T07:20:16.433544Z"
    }
   },
   "outputs": [
    {
     "data": {
      "text/plain": [
       "array([ 6,  4, 25, 36, 13, 29,  8, 12, 47, 40], dtype=int32)"
      ]
     },
     "execution_count": 32,
     "metadata": {},
     "output_type": "execute_result"
    }
   ],
   "source": [
    "ranarr"
   ]
  },
  {
   "cell_type": "code",
   "execution_count": null,
   "id": "d6bced5c",
   "metadata": {
    "ExecuteTime": {
     "end_time": "2025-07-25T07:17:49.889293Z",
     "start_time": "2025-07-25T07:17:49.883387Z"
    }
   },
   "outputs": [],
   "source": []
  },
  {
   "cell_type": "code",
   "execution_count": 33,
   "id": "6b541aff",
   "metadata": {
    "ExecuteTime": {
     "end_time": "2025-07-25T07:20:17.755145Z",
     "start_time": "2025-07-25T07:20:17.744428Z"
    }
   },
   "outputs": [
    {
     "data": {
      "text/plain": [
       "array([ 6,  4, 25, 36, 13, 29,  8, 12, 47, 40], dtype=int32)"
      ]
     },
     "execution_count": 33,
     "metadata": {},
     "output_type": "execute_result"
    }
   ],
   "source": [
    "ranarr"
   ]
  },
  {
   "cell_type": "code",
   "execution_count": 1,
   "id": "6d891db4",
   "metadata": {},
   "outputs": [
    {
     "name": "stdout",
     "output_type": "stream",
     "text": [
      "[1, 2, 3]\n"
     ]
    }
   ],
   "source": [
    "import numpy as np\n",
    "my_list = [1, 2, 3]\n",
    "arr = np.array(my_list) \n",
    "print(my_list)"
   ]
  },
  {
   "cell_type": "code",
   "execution_count": 2,
   "id": "353e2d1e-23e2-4fd8-ab4b-694e1db17f21",
   "metadata": {
    "ExecuteTime": {
     "end_time": "2025-07-25T07:18:21.091189Z",
     "start_time": "2025-07-25T07:18:21.022167Z"
    }
   },
   "outputs": [
    {
     "name": "stdout",
     "output_type": "stream",
     "text": [
      "[[1 2 3]\n",
      " [4 5 6]\n",
      " [7 8 9]]\n"
     ]
    }
   ],
   "source": [
    "my_matrix = [[1, 2, 3], [4, 5, 6], [7, 8, 9]]\n",
    "mat = np.array(my_matrix)\n",
    "print(mat)"
   ]
  },
  {
   "cell_type": "code",
   "execution_count": 3,
   "id": "8129fa5b",
   "metadata": {},
   "outputs": [
    {
     "data": {
      "text/plain": [
       "array([0, 1, 2, 3, 4, 5, 6, 7, 8, 9])"
      ]
     },
     "execution_count": 3,
     "metadata": {},
     "output_type": "execute_result"
    }
   ],
   "source": [
    "np.arange(0, 10)"
   ]
  },
  {
   "cell_type": "code",
   "execution_count": 4,
   "id": "d3d76616-292b-47f0-8858-aff0547aa5ee",
   "metadata": {},
   "outputs": [
    {
     "data": {
      "text/plain": [
       "array([ 0,  2,  4,  6,  8, 10])"
      ]
     },
     "execution_count": 4,
     "metadata": {},
     "output_type": "execute_result"
    }
   ],
   "source": [
    "np.arange(0, 11, 2)"
   ]
  },
  {
   "cell_type": "code",
   "execution_count": 5,
   "id": "635a0459-0a2d-4643-8efc-a833909ddb17",
   "metadata": {},
   "outputs": [
    {
     "data": {
      "text/plain": [
       "array([[0., 0., 0.],\n",
       "       [0., 0., 0.]])"
      ]
     },
     "execution_count": 5,
     "metadata": {},
     "output_type": "execute_result"
    }
   ],
   "source": [
    "np.zeros((2, 3))"
   ]
  },
  {
   "cell_type": "code",
   "execution_count": 6,
   "id": "5237c123-a005-4509-8c7f-225557988f0e",
   "metadata": {},
   "outputs": [
    {
     "data": {
      "text/plain": [
       "array([[1., 1.],\n",
       "       [1., 1.],\n",
       "       [1., 1.]])"
      ]
     },
     "execution_count": 6,
     "metadata": {},
     "output_type": "execute_result"
    }
   ],
   "source": [
    "np.ones((3, 2))"
   ]
  },
  {
   "cell_type": "code",
   "execution_count": 7,
   "id": "775ccf18-c061-4d86-a114-347cfea1f523",
   "metadata": {},
   "outputs": [
    {
     "data": {
      "text/plain": [
       "array([0.        , 0.55555556, 1.11111111, 1.66666667, 2.22222222,\n",
       "       2.77777778, 3.33333333, 3.88888889, 4.44444444, 5.        ])"
      ]
     },
     "execution_count": 7,
     "metadata": {},
     "output_type": "execute_result"
    }
   ],
   "source": [
    "np.linspace(0, 5, 10)"
   ]
  },
  {
   "cell_type": "code",
   "execution_count": 8,
   "id": "c7c0be4e-3a9f-44db-8b89-41f3d542faad",
   "metadata": {},
   "outputs": [
    {
     "data": {
      "text/plain": [
       "array([0.93066659, 0.39519375, 0.22628009])"
      ]
     },
     "execution_count": 8,
     "metadata": {},
     "output_type": "execute_result"
    }
   ],
   "source": [
    "np.random.rand(3) "
   ]
  },
  {
   "cell_type": "code",
   "execution_count": 9,
   "id": "db782bb8-2dbc-44fe-8c2b-e0e4ba9badeb",
   "metadata": {},
   "outputs": [
    {
     "data": {
      "text/plain": [
       "array([0.03584532, 0.38926956, 0.74046871])"
      ]
     },
     "execution_count": 9,
     "metadata": {},
     "output_type": "execute_result"
    }
   ],
   "source": [
    "np.random.rand(3) "
   ]
  },
  {
   "cell_type": "code",
   "execution_count": 11,
   "id": "2708f96b-b867-454a-8643-94c4dc568b48",
   "metadata": {},
   "outputs": [
    {
     "name": "stdout",
     "output_type": "stream",
     "text": [
      "[[1. 0. 0. 0.]\n",
      " [0. 1. 0. 0.]\n",
      " [0. 0. 1. 0.]\n",
      " [0. 0. 0. 1.]]\n"
     ]
    }
   ],
   "source": [
    "import numpy as np\n",
    "arr=np.eye(4)\n",
    "print(arr)"
   ]
  },
  {
   "cell_type": "code",
   "execution_count": null,
   "id": "a44aa876-c9a8-4290-8605-f67b4df82aef",
   "metadata": {},
   "outputs": [],
   "source": []
  }
 ],
 "metadata": {
  "kernelspec": {
   "display_name": "Python [conda env:base] *",
   "language": "python",
   "name": "conda-base-py"
  },
  "language_info": {
   "codemirror_mode": {
    "name": "ipython",
    "version": 3
   },
   "file_extension": ".py",
   "mimetype": "text/x-python",
   "name": "python",
   "nbconvert_exporter": "python",
   "pygments_lexer": "ipython3",
   "version": "3.13.5"
  },
  "toc": {
   "base_numbering": 1,
   "nav_menu": {},
   "number_sections": true,
   "sideBar": true,
   "skip_h1_title": false,
   "title_cell": "Table of Contents",
   "title_sidebar": "Contents",
   "toc_cell": false,
   "toc_position": {},
   "toc_section_display": true,
   "toc_window_display": false
  },
  "varInspector": {
   "cols": {
    "lenName": 16,
    "lenType": 16,
    "lenVar": 40
   },
   "kernels_config": {
    "python": {
     "delete_cmd_postfix": "",
     "delete_cmd_prefix": "del ",
     "library": "var_list.py",
     "varRefreshCmd": "print(var_dic_list())"
    },
    "r": {
     "delete_cmd_postfix": ") ",
     "delete_cmd_prefix": "rm(",
     "library": "var_list.r",
     "varRefreshCmd": "cat(var_dic_list()) "
    }
   },
   "types_to_exclude": [
    "module",
    "function",
    "builtin_function_or_method",
    "instance",
    "_Feature"
   ],
   "window_display": false
  }
 },
 "nbformat": 4,
 "nbformat_minor": 5
}
