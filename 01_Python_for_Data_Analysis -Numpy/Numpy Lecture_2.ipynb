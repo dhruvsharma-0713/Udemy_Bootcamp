{
 "cells": [
  {
   "cell_type": "code",
   "execution_count": 25,
   "id": "a2aa4ef3",
   "metadata": {
    "ExecuteTime": {
     "end_time": "2025-07-25T07:37:38.508738Z",
     "start_time": "2025-07-25T07:37:38.505473Z"
    }
   },
   "outputs": [],
   "source": [
    "import numpy as np "
   ]
  },
  {
   "cell_type": "code",
   "execution_count": 26,
   "id": "8d6a331b",
   "metadata": {
    "ExecuteTime": {
     "end_time": "2025-07-25T07:37:38.719763Z",
     "start_time": "2025-07-25T07:37:38.716288Z"
    }
   },
   "outputs": [],
   "source": [
    "arr = np.arange(0,11)"
   ]
  },
  {
   "cell_type": "code",
   "execution_count": 27,
   "id": "09183ff2",
   "metadata": {
    "ExecuteTime": {
     "end_time": "2025-07-25T07:37:38.925190Z",
     "start_time": "2025-07-25T07:37:38.920556Z"
    }
   },
   "outputs": [
    {
     "data": {
      "text/plain": [
       "array([ 0,  1,  2,  3,  4,  5,  6,  7,  8,  9, 10])"
      ]
     },
     "execution_count": 27,
     "metadata": {},
     "output_type": "execute_result"
    }
   ],
   "source": [
    "arr"
   ]
  },
  {
   "cell_type": "code",
   "execution_count": 28,
   "id": "9345b4a8",
   "metadata": {
    "ExecuteTime": {
     "end_time": "2025-07-25T07:37:39.276544Z",
     "start_time": "2025-07-25T07:37:39.271207Z"
    }
   },
   "outputs": [
    {
     "data": {
      "text/plain": [
       "np.int64(8)"
      ]
     },
     "execution_count": 28,
     "metadata": {},
     "output_type": "execute_result"
    }
   ],
   "source": [
    "arr[8]"
   ]
  },
  {
   "cell_type": "code",
   "execution_count": 29,
   "id": "7e71ee70",
   "metadata": {
    "ExecuteTime": {
     "end_time": "2025-07-25T07:37:39.615308Z",
     "start_time": "2025-07-25T07:37:39.610410Z"
    }
   },
   "outputs": [
    {
     "data": {
      "text/plain": [
       "array([1, 2, 3, 4])"
      ]
     },
     "execution_count": 29,
     "metadata": {},
     "output_type": "execute_result"
    }
   ],
   "source": [
    "arr[1:5]"
   ]
  },
  {
   "cell_type": "code",
   "execution_count": 30,
   "id": "7bcbcbcf",
   "metadata": {
    "ExecuteTime": {
     "end_time": "2025-07-25T07:37:40.008124Z",
     "start_time": "2025-07-25T07:37:40.003194Z"
    }
   },
   "outputs": [
    {
     "data": {
      "text/plain": [
       "array([0, 1, 2, 3, 4, 5])"
      ]
     },
     "execution_count": 30,
     "metadata": {},
     "output_type": "execute_result"
    }
   ],
   "source": [
    "arr[:6]"
   ]
  },
  {
   "cell_type": "code",
   "execution_count": 31,
   "id": "76425bf1",
   "metadata": {
    "ExecuteTime": {
     "end_time": "2025-07-25T07:37:40.292580Z",
     "start_time": "2025-07-25T07:37:40.287193Z"
    }
   },
   "outputs": [
    {
     "data": {
      "text/plain": [
       "array([ 5,  6,  7,  8,  9, 10])"
      ]
     },
     "execution_count": 31,
     "metadata": {},
     "output_type": "execute_result"
    }
   ],
   "source": [
    "arr[5:]"
   ]
  },
  {
   "cell_type": "code",
   "execution_count": 32,
   "id": "26f5cf04",
   "metadata": {
    "ExecuteTime": {
     "end_time": "2025-07-25T07:37:40.707434Z",
     "start_time": "2025-07-25T07:37:40.704025Z"
    }
   },
   "outputs": [],
   "source": [
    "arr[0:5]=100"
   ]
  },
  {
   "cell_type": "code",
   "execution_count": 33,
   "id": "e239b97e",
   "metadata": {
    "ExecuteTime": {
     "end_time": "2025-07-25T07:37:41.161944Z",
     "start_time": "2025-07-25T07:37:41.159137Z"
    }
   },
   "outputs": [],
   "source": [
    "arr = np.arange(0,11)"
   ]
  },
  {
   "cell_type": "code",
   "execution_count": 34,
   "id": "86daa941",
   "metadata": {
    "ExecuteTime": {
     "end_time": "2025-07-25T07:37:41.978156Z",
     "start_time": "2025-07-25T07:37:41.973860Z"
    }
   },
   "outputs": [
    {
     "data": {
      "text/plain": [
       "array([ 0,  1,  2,  3,  4,  5,  6,  7,  8,  9, 10])"
      ]
     },
     "execution_count": 34,
     "metadata": {},
     "output_type": "execute_result"
    }
   ],
   "source": [
    "arr"
   ]
  },
  {
   "cell_type": "code",
   "execution_count": 35,
   "id": "87befb11",
   "metadata": {
    "ExecuteTime": {
     "end_time": "2025-07-25T07:37:42.609311Z",
     "start_time": "2025-07-25T07:37:42.606100Z"
    }
   },
   "outputs": [],
   "source": [
    "slice_of_arr=arr[0:6]"
   ]
  },
  {
   "cell_type": "code",
   "execution_count": 36,
   "id": "575ce98d",
   "metadata": {
    "ExecuteTime": {
     "end_time": "2025-07-25T07:37:44.463336Z",
     "start_time": "2025-07-25T07:37:44.458259Z"
    }
   },
   "outputs": [
    {
     "data": {
      "text/plain": [
       "array([0, 1, 2, 3, 4, 5])"
      ]
     },
     "execution_count": 36,
     "metadata": {},
     "output_type": "execute_result"
    }
   ],
   "source": [
    "slice_of_arr"
   ]
  },
  {
   "cell_type": "code",
   "execution_count": 37,
   "id": "b971542a",
   "metadata": {
    "ExecuteTime": {
     "end_time": "2025-07-25T07:37:45.547756Z",
     "start_time": "2025-07-25T07:37:45.544737Z"
    }
   },
   "outputs": [],
   "source": [
    "slice_of_arr[:]=99"
   ]
  },
  {
   "cell_type": "code",
   "execution_count": 38,
   "id": "790b6964",
   "metadata": {
    "ExecuteTime": {
     "end_time": "2025-07-25T07:37:46.323878Z",
     "start_time": "2025-07-25T07:37:46.319283Z"
    }
   },
   "outputs": [
    {
     "data": {
      "text/plain": [
       "array([99, 99, 99, 99, 99, 99])"
      ]
     },
     "execution_count": 38,
     "metadata": {},
     "output_type": "execute_result"
    }
   ],
   "source": [
    "slice_of_arr"
   ]
  },
  {
   "cell_type": "code",
   "execution_count": 39,
   "id": "56abf14a",
   "metadata": {
    "ExecuteTime": {
     "end_time": "2025-07-25T07:37:59.320654Z",
     "start_time": "2025-07-25T07:37:59.315641Z"
    }
   },
   "outputs": [
    {
     "data": {
      "text/plain": [
       "array([99, 99, 99, 99, 99, 99,  6,  7,  8,  9, 10])"
      ]
     },
     "execution_count": 39,
     "metadata": {},
     "output_type": "execute_result"
    }
   ],
   "source": [
    "arr"
   ]
  },
  {
   "cell_type": "code",
   "execution_count": 40,
   "id": "d8a44310",
   "metadata": {
    "ExecuteTime": {
     "end_time": "2025-07-25T07:38:20.524668Z",
     "start_time": "2025-07-25T07:38:20.521751Z"
    }
   },
   "outputs": [],
   "source": [
    "arr_copy=arr.copy()"
   ]
  },
  {
   "cell_type": "code",
   "execution_count": 41,
   "id": "49dde50e",
   "metadata": {
    "ExecuteTime": {
     "end_time": "2025-07-25T07:38:24.387553Z",
     "start_time": "2025-07-25T07:38:24.382611Z"
    }
   },
   "outputs": [
    {
     "data": {
      "text/plain": [
       "array([99, 99, 99, 99, 99, 99,  6,  7,  8,  9, 10])"
      ]
     },
     "execution_count": 41,
     "metadata": {},
     "output_type": "execute_result"
    }
   ],
   "source": [
    "arr"
   ]
  },
  {
   "cell_type": "code",
   "execution_count": 42,
   "id": "9a337d6a",
   "metadata": {
    "ExecuteTime": {
     "end_time": "2025-07-25T07:38:41.079088Z",
     "start_time": "2025-07-25T07:38:41.075996Z"
    }
   },
   "outputs": [],
   "source": [
    "arr_copy[:]=100"
   ]
  },
  {
   "cell_type": "code",
   "execution_count": 43,
   "id": "829e0b86",
   "metadata": {
    "ExecuteTime": {
     "end_time": "2025-07-25T07:38:46.620418Z",
     "start_time": "2025-07-25T07:38:46.615463Z"
    }
   },
   "outputs": [
    {
     "data": {
      "text/plain": [
       "array([100, 100, 100, 100, 100, 100, 100, 100, 100, 100, 100])"
      ]
     },
     "execution_count": 43,
     "metadata": {},
     "output_type": "execute_result"
    }
   ],
   "source": [
    "arr_copy"
   ]
  },
  {
   "cell_type": "code",
   "execution_count": 44,
   "id": "5afc6bab",
   "metadata": {
    "ExecuteTime": {
     "end_time": "2025-07-25T07:38:50.572939Z",
     "start_time": "2025-07-25T07:38:50.568643Z"
    }
   },
   "outputs": [
    {
     "data": {
      "text/plain": [
       "array([99, 99, 99, 99, 99, 99,  6,  7,  8,  9, 10])"
      ]
     },
     "execution_count": 44,
     "metadata": {},
     "output_type": "execute_result"
    }
   ],
   "source": [
    "arr"
   ]
  },
  {
   "cell_type": "code",
   "execution_count": 1,
   "id": "2dcdabd8",
   "metadata": {
    "ExecuteTime": {
     "end_time": "2025-07-25T09:45:15.181660Z",
     "start_time": "2025-07-25T09:45:15.176095Z"
    }
   },
   "outputs": [],
   "source": [
    "arr_2d = np.array([[5,10,15],[20,25,30],[35,40,45]])"
   ]
  },
  {
   "cell_type": "code",
   "execution_count": 2,
   "id": "c6bf0abd",
   "metadata": {
    "ExecuteTime": {
     "end_time": "2025-07-25T09:45:31.282112Z",
     "start_time": "2025-07-25T09:45:31.267876Z"
    }
   },
   "outputs": [
    {
     "data": {
      "text/plain": [
       "array([[ 5, 10, 15],\n",
       "       [20, 25, 30],\n",
       "       [35, 40, 45]])"
      ]
     },
     "execution_count": 2,
     "metadata": {},
     "output_type": "execute_result"
    }
   ],
   "source": [
    "arr_2d"
   ]
  },
  {
   "cell_type": "code",
   "execution_count": 3,
   "id": "2cf5cf8e",
   "metadata": {
    "ExecuteTime": {
     "end_time": "2025-07-25T09:45:40.404106Z",
     "start_time": "2025-07-25T09:45:40.394321Z"
    }
   },
   "outputs": [
    {
     "data": {
      "text/plain": [
       "np.int64(5)"
      ]
     },
     "execution_count": 3,
     "metadata": {},
     "output_type": "execute_result"
    }
   ],
   "source": [
    "arr_2d[0][0] #5"
   ]
  },
  {
   "cell_type": "code",
   "execution_count": 5,
   "id": "539e323c",
   "metadata": {
    "ExecuteTime": {
     "end_time": "2025-07-25T09:46:14.786929Z",
     "start_time": "2025-07-25T09:46:14.778564Z"
    }
   },
   "outputs": [
    {
     "data": {
      "text/plain": [
       "np.int64(20)"
      ]
     },
     "execution_count": 5,
     "metadata": {},
     "output_type": "execute_result"
    }
   ],
   "source": [
    "arr_2d[1,0] #20"
   ]
  },
  {
   "cell_type": "code",
   "execution_count": 6,
   "id": "26b9d6e9",
   "metadata": {
    "ExecuteTime": {
     "end_time": "2025-07-25T09:46:23.812539Z",
     "start_time": "2025-07-25T09:46:23.803635Z"
    }
   },
   "outputs": [
    {
     "data": {
      "text/plain": [
       "np.int64(35)"
      ]
     },
     "execution_count": 6,
     "metadata": {},
     "output_type": "execute_result"
    }
   ],
   "source": [
    "arr_2d[2,0] #35"
   ]
  },
  {
   "cell_type": "code",
   "execution_count": 7,
   "id": "8ddce4f5",
   "metadata": {
    "ExecuteTime": {
     "end_time": "2025-07-25T09:46:33.974047Z",
     "start_time": "2025-07-25T09:46:33.966154Z"
    }
   },
   "outputs": [
    {
     "data": {
      "text/plain": [
       "np.int64(45)"
      ]
     },
     "execution_count": 7,
     "metadata": {},
     "output_type": "execute_result"
    }
   ],
   "source": [
    "arr_2d[2,2] #45"
   ]
  },
  {
   "cell_type": "markdown",
   "id": "8d9fce0e",
   "metadata": {
    "heading_collapsed": true
   },
   "source": [
    "### For practice\n",
    "Try making a 5*10 array of numbers 049, and practice selecting different \"chunks\" or sections using slicing...."
   ]
  },
  {
   "cell_type": "code",
   "execution_count": 1,
   "id": "54e39a5f",
   "metadata": {
    "ExecuteTime": {
     "end_time": "2025-07-26T05:55:40.637230Z",
     "start_time": "2025-07-26T05:55:40.630788Z"
    },
    "hidden": true
   },
   "outputs": [],
   "source": [
    "arr = np.arange(1,11)"
   ]
  },
  {
   "cell_type": "code",
   "execution_count": 2,
   "id": "a1057f19",
   "metadata": {
    "ExecuteTime": {
     "end_time": "2025-07-26T05:55:43.442971Z",
     "start_time": "2025-07-26T05:55:43.429116Z"
    },
    "hidden": true
   },
   "outputs": [
    {
     "data": {
      "text/plain": [
       "array([ 1,  2,  3,  4,  5,  6,  7,  8,  9, 10])"
      ]
     },
     "execution_count": 2,
     "metadata": {},
     "output_type": "execute_result"
    }
   ],
   "source": [
    "arr"
   ]
  },
  {
   "cell_type": "code",
   "execution_count": 5,
   "id": "e09272c4",
   "metadata": {
    "ExecuteTime": {
     "end_time": "2025-07-26T05:56:31.403780Z",
     "start_time": "2025-07-26T05:56:31.398278Z"
    },
    "hidden": true
   },
   "outputs": [],
   "source": [
    "bool_arr = arr > 5"
   ]
  },
  {
   "cell_type": "code",
   "execution_count": 6,
   "id": "67fddcea",
   "metadata": {
    "ExecuteTime": {
     "end_time": "2025-07-26T05:56:39.719795Z",
     "start_time": "2025-07-26T05:56:39.711028Z"
    },
    "hidden": true
   },
   "outputs": [
    {
     "data": {
      "text/plain": [
       "array([False, False, False, False, False,  True,  True,  True,  True,\n",
       "        True])"
      ]
     },
     "execution_count": 6,
     "metadata": {},
     "output_type": "execute_result"
    }
   ],
   "source": [
    "bool_arr"
   ]
  },
  {
   "cell_type": "code",
   "execution_count": 7,
   "id": "7646c33a",
   "metadata": {
    "ExecuteTime": {
     "end_time": "2025-07-26T05:56:53.637614Z",
     "start_time": "2025-07-26T05:56:53.628757Z"
    },
    "hidden": true
   },
   "outputs": [
    {
     "data": {
      "text/plain": [
       "array([ 6,  7,  8,  9, 10])"
      ]
     },
     "execution_count": 7,
     "metadata": {},
     "output_type": "execute_result"
    }
   ],
   "source": [
    "arr[bool_arr]"
   ]
  },
  {
   "cell_type": "code",
   "execution_count": 8,
   "id": "1db0967c",
   "metadata": {
    "ExecuteTime": {
     "end_time": "2025-07-26T05:57:25.744566Z",
     "start_time": "2025-07-26T05:57:25.733647Z"
    },
    "hidden": true
   },
   "outputs": [
    {
     "data": {
      "text/plain": [
       "array([ 6,  7,  8,  9, 10])"
      ]
     },
     "execution_count": 8,
     "metadata": {},
     "output_type": "execute_result"
    }
   ],
   "source": [
    "arr[arr>5]"
   ]
  },
  {
   "cell_type": "code",
   "execution_count": 10,
   "id": "721bd083",
   "metadata": {
    "ExecuteTime": {
     "end_time": "2025-07-26T05:57:43.111154Z",
     "start_time": "2025-07-26T05:57:43.103095Z"
    },
    "hidden": true
   },
   "outputs": [
    {
     "data": {
      "text/plain": [
       "array([1, 2])"
      ]
     },
     "execution_count": 10,
     "metadata": {},
     "output_type": "execute_result"
    }
   ],
   "source": [
    "arr[arr<3]"
   ]
  },
  {
   "cell_type": "code",
   "execution_count": 11,
   "id": "fc1a51ab",
   "metadata": {
    "ExecuteTime": {
     "end_time": "2025-07-26T05:59:09.485861Z",
     "start_time": "2025-07-26T05:59:09.479882Z"
    },
    "hidden": true
   },
   "outputs": [],
   "source": [
    "arr_2d =np.arange(50).reshape(5,10)"
   ]
  },
  {
   "cell_type": "code",
   "execution_count": 12,
   "id": "3efe1589",
   "metadata": {
    "ExecuteTime": {
     "end_time": "2025-07-26T05:59:14.874924Z",
     "start_time": "2025-07-26T05:59:14.866363Z"
    },
    "hidden": true
   },
   "outputs": [
    {
     "data": {
      "text/plain": [
       "array([[ 0,  1,  2,  3,  4,  5,  6,  7,  8,  9],\n",
       "       [10, 11, 12, 13, 14, 15, 16, 17, 18, 19],\n",
       "       [20, 21, 22, 23, 24, 25, 26, 27, 28, 29],\n",
       "       [30, 31, 32, 33, 34, 35, 36, 37, 38, 39],\n",
       "       [40, 41, 42, 43, 44, 45, 46, 47, 48, 49]])"
      ]
     },
     "execution_count": 12,
     "metadata": {},
     "output_type": "execute_result"
    }
   ],
   "source": [
    "arr_2d"
   ]
  },
  {
   "cell_type": "code",
   "execution_count": 13,
   "id": "653b901b",
   "metadata": {
    "ExecuteTime": {
     "end_time": "2025-07-26T06:03:43.969176Z",
     "start_time": "2025-07-26T06:03:43.960641Z"
    },
    "hidden": true
   },
   "outputs": [
    {
     "data": {
      "text/plain": [
       "array([31, 32, 33, 34])"
      ]
     },
     "execution_count": 13,
     "metadata": {},
     "output_type": "execute_result"
    }
   ],
   "source": [
    "arr_2d[3,1:5]"
   ]
  },
  {
   "cell_type": "code",
   "execution_count": 14,
   "id": "2c2a1da7",
   "metadata": {
    "ExecuteTime": {
     "end_time": "2025-07-26T06:04:38.997789Z",
     "start_time": "2025-07-26T06:04:38.987531Z"
    },
    "hidden": true
   },
   "outputs": [
    {
     "data": {
      "text/plain": [
       "array([[13, 14],\n",
       "       [23, 24]])"
      ]
     },
     "execution_count": 14,
     "metadata": {},
     "output_type": "execute_result"
    }
   ],
   "source": [
    "arr_2d[1:3,3:5]"
   ]
  },
  {
   "cell_type": "code",
   "execution_count": null,
   "id": "d429f306",
   "metadata": {
    "hidden": true
   },
   "outputs": [],
   "source": []
  }
 ],
 "metadata": {
  "kernelspec": {
   "display_name": "Python [conda env:base] *",
   "language": "python",
   "name": "conda-base-py"
  },
  "language_info": {
   "codemirror_mode": {
    "name": "ipython",
    "version": 3
   },
   "file_extension": ".py",
   "mimetype": "text/x-python",
   "name": "python",
   "nbconvert_exporter": "python",
   "pygments_lexer": "ipython3",
   "version": "3.13.5"
  },
  "toc": {
   "base_numbering": 1,
   "nav_menu": {},
   "number_sections": true,
   "sideBar": true,
   "skip_h1_title": false,
   "title_cell": "Table of Contents",
   "title_sidebar": "Contents",
   "toc_cell": false,
   "toc_position": {},
   "toc_section_display": true,
   "toc_window_display": false
  },
  "varInspector": {
   "cols": {
    "lenName": 16,
    "lenType": 16,
    "lenVar": 40
   },
   "kernels_config": {
    "python": {
     "delete_cmd_postfix": "",
     "delete_cmd_prefix": "del ",
     "library": "var_list.py",
     "varRefreshCmd": "print(var_dic_list())"
    },
    "r": {
     "delete_cmd_postfix": ") ",
     "delete_cmd_prefix": "rm(",
     "library": "var_list.r",
     "varRefreshCmd": "cat(var_dic_list()) "
    }
   },
   "types_to_exclude": [
    "module",
    "function",
    "builtin_function_or_method",
    "instance",
    "_Feature"
   ],
   "window_display": false
  }
 },
 "nbformat": 4,
 "nbformat_minor": 5
}
